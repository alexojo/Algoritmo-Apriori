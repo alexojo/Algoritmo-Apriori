{
 "cells": [
  {
   "cell_type": "code",
   "execution_count": 1,
   "metadata": {},
   "outputs": [],
   "source": [
    "import numpy as np  \n",
    "from itertools import combinations\n",
    "import pandas as pd"
   ]
  },
  {
   "cell_type": "markdown",
   "metadata": {},
   "source": [
    "# CARGA DE DATOS"
   ]
  },
  {
   "cell_type": "code",
   "execution_count": 2,
   "metadata": {},
   "outputs": [],
   "source": [
    "spotify = np.load(\"spotify.npy\",allow_pickle=True)\n",
    "spotify = spotify.tolist()"
   ]
  },
  {
   "cell_type": "markdown",
   "metadata": {},
   "source": [
    "# FUNCIONES ADICIONALES"
   ]
  },
  {
   "cell_type": "code",
   "execution_count": 14,
   "metadata": {},
   "outputs": [],
   "source": [
    "## \n",
    "def frecuency_each_song( spotify ):\n",
    "    frecuencias = {}\n",
    "\n",
    "    for i in range( len(spotify) ):\n",
    "        for j in range(len(spotify[i])):\n",
    "            song = spotify[i][j]\n",
    "            if song in frecuencias: frecuencias[song] += 1\n",
    "            else: frecuencias[song] = 1\n",
    "    return frecuencias\n",
    "\n",
    "def frecuency_each_combination( spotify, combination, n ):\n",
    "    # RECORRER ARREGLO DE PLAYLISTS\n",
    "    for i in range( len(spotify) ):   #len(arr)\n",
    "        # RECORRER DICCIONARIO DE PARES\n",
    "        for key, value in combination.items():\n",
    "            playlist = []\n",
    "            for j in range(n): playlist.append(key[j])\n",
    "            # VERIFICAR SI COMBINACION SE ENCUENTRA EN PLAYLIST\n",
    "            if( set(playlist).issubset(set( spotify[i] ))):  \n",
    "                combination[key] += 1\n",
    "\n",
    "    return combination\n",
    "\n",
    "def create_combinations( array, n ):\n",
    "    temp = list(combinations( array, n ))\n",
    "    dic_combinations = {}\n",
    "    for i in range(len(temp)): dic_combinations[ temp[i] ] = 0\n",
    "\n",
    "    return dic_combinations\n",
    "\n",
    "def pass_min_support( dic, min_support ):\n",
    "    min_frecuency = []\n",
    "    for key, value in dic.items():\n",
    "\n",
    "        if (value / 10000) >= min_support:\n",
    "            min_frecuency.append( key )\n",
    "            \n",
    "    return min_frecuency\n",
    "\n",
    "def combinations_to_next_level( min_frecuencias2, nivel ):\n",
    "\n",
    "    # RECUPERAMOS LOS N-1 ELEMENTOS DE CADA COMBINACION\n",
    "    aux_primeros=[]\n",
    "    \n",
    "    for i in min_frecuencias2: aux_primeros.append( i[0] )\n",
    "\n",
    "    # REALIZACMOS UN CONTEO PARA TRABAJAR CON AQUELLAS COMBINACIONES > 1\n",
    "    aUnique = np.array(aux_primeros)\n",
    "    unique, counts = np.unique(aUnique, return_counts=True)\n",
    "    auxi = dict(zip(unique, counts))\n",
    "\n",
    "    print(auxi)\n",
    "\n",
    "    aux_primeros_fijos = []\n",
    "\n",
    "    combinatorias = {}\n",
    "    for key, value in auxi.items(): # CONTEO DE APARICIONES DE LOS N-1 ELEMENTOS\n",
    "        \n",
    "        adicionales = []\n",
    "        if value > 1:\n",
    "            aux_primeros_fijos.append( key )\n",
    "            for auxiliar in min_frecuencias2: # BUSQUEDA DE ADICIONALES EN DICCIONARIO \n",
    "                if key == auxiliar[0]:\n",
    "                    adicionales.append(auxiliar[1])\n",
    "\n",
    "            adicionales = [key] + adicionales\n",
    "            combinaciones = list(combinations(adicionales, nivel + 1))\n",
    "\n",
    "            for i in combinaciones:  \n",
    "                if i[0] in aux_primeros_fijos:\n",
    "                    combinatorias[ i ] = 0\n",
    "\n",
    "    return combinatorias\n",
    "\n",
    "def combinations_rules(items):\n",
    "    dic = []\n",
    "\n",
    "    for i in range(len(items)):\n",
    "\n",
    "        tamanio = len(items[i])\n",
    "        adicionales = list( items[i] )\n",
    "\n",
    "        combinaciones = list(combinations(adicionales, tamanio - 1))\n",
    "\n",
    "        for combinacion in combinaciones:\n",
    "            inicio = set(items[i]) - set(combinacion)\n",
    "            fin = combinacion\n",
    "\n",
    "            if [tuple(inicio), tuple(fin) ] not in dic:\n",
    "                dic.append([tuple(inicio), tuple(fin) ])\n",
    "\n",
    "            if [tuple(fin), tuple(inicio) ] not in dic:\n",
    "                dic.append([tuple(fin), tuple(inicio) ])\n",
    "    return dic"
   ]
  },
  {
   "cell_type": "markdown",
   "metadata": {},
   "source": [
    "# FUNCION GET_FREQUENT_ITEMSETS"
   ]
  },
  {
   "cell_type": "code",
   "execution_count": 15,
   "metadata": {},
   "outputs": [],
   "source": [
    "def get_frequent_itemsets(playlists, min_support):\n",
    "\n",
    "    # FRECUENCIA DE APARICION DE CADA CANCION\n",
    "    frecuency_of_songs = frecuency_each_song(playlists)\n",
    "\n",
    "    # FILTRAR AQUELLAS CANCIONES QUE PASEN EL SOPORTE MINIMO\n",
    "    songs_pass_support = pass_min_support( frecuency_of_songs, min_support )\n",
    "    \n",
    "    itemsets = []\n",
    "\n",
    "    bandera = True\n",
    "    nivel = 1\n",
    "    combinaciones = {}\n",
    "\n",
    "    while ( bandera ):\n",
    "        nivel += 1\n",
    "\n",
    "        # HALLA LAS COMBINACIONES PARA EL RESPECTIVO NIVEL\n",
    "        if nivel == 2: combinaciones = create_combinations( songs_pass_support, nivel )\n",
    "\n",
    "        # HALLA LA FRECUENCIA CON LA QUE APARECE CADA COMBINACION EN CADA PLAYLIST\n",
    "        frecuencia_combinaciones = frecuency_each_combination( spotify, combinaciones, nivel )\n",
    "\n",
    "        # FILTRAR AQUELLAS COMBINACIONES QUE PASEN EL SOPORTE MINIMO\n",
    "        combinaciones_pass_support = pass_min_support( frecuencia_combinaciones, min_support )\n",
    "\n",
    "        # AGREGAR COMBINACIONES A 'ITEMSETS'\n",
    "        for combinacion in combinaciones_pass_support: itemsets.append( combinacion )\n",
    "\n",
    "        # ENCONTRAR LAS NUEVAS COMBINACIONES PARA EL SIGUIENTE NIVEL\n",
    "        combinaciones = combinations_to_next_level( combinaciones_pass_support, nivel )\n",
    "\n",
    "        # print(combinaciones_pass_support)\n",
    "\n",
    "        # SI EL TAMAÑO DE COMBINACIONES QUE PASEN EL SOPORTE MINIMO ES '1', CORTAMOS EL ALGORITMO\n",
    "        if (len( combinaciones_pass_support ) <= 1) : bandera = False\n",
    "\n",
    "\n",
    "    print( itemsets )\n",
    "\n",
    "    return itemsets"
   ]
  },
  {
   "cell_type": "code",
   "execution_count": null,
   "metadata": {},
   "outputs": [],
   "source": [
    "\n"
   ]
  },
  {
   "cell_type": "markdown",
   "metadata": {},
   "source": [
    "# FUNCION GENERATE_ASSOCIATION_RULES"
   ]
  },
  {
   "cell_type": "code",
   "execution_count": 37,
   "metadata": {},
   "outputs": [],
   "source": [
    "def generate_association_rules(frequent_itemsets, confidence = 0, lift = 0):\n",
    "\n",
    "    # ENCONTRAMOS LAS REGLAS DE ASOCIACION, PARA LOS ITEMSETS QUE PASEN EL UMBRAL\n",
    "    rules = combinations_rules(frequent_itemsets)\n",
    "\n",
    "    count_x_y = [0] * len(rules)\n",
    "    count_x   = [0] * len(rules)\n",
    "    count_y   = [0] * len(rules)\n",
    "\n",
    "    soporte   = [0] * len(rules)\n",
    "    confianza = [0] * len(rules)\n",
    "    sustento  = [0] * len(rules)\n",
    "\n",
    "    for i in range( len(spotify) ):   #len(arr)\n",
    "    # RECORRER DICCIONARIO DE PARES\n",
    "        for j in range(len(rules)):\n",
    "            \n",
    "            x_y = list( rules[j][0] + rules[j][1] )\n",
    "            x = list( rules[j][0] )\n",
    "            y = list( rules[j][1] )\n",
    "\n",
    "            # VERIFICAR SI COMBINACION SE ENCUENTRA EN PLAYLIST\n",
    "            if( set(x_y).issubset(set( spotify[i] ))):  \n",
    "                count_x_y[j] += 1\n",
    "            if( set(x).issubset(set( spotify[i] ))):  \n",
    "                count_x[j] += 1\n",
    "            if( set(y).issubset(set( spotify[i] ))):  \n",
    "                count_y[j] += 1\n",
    "\n",
    "    for j in range(len(rules)):\n",
    "        soporte[j] = (count_x_y[j] / len(spotify))\n",
    "        confianza[j] = (count_x_y[j] / count_x[j])\n",
    "        sustento[j] = confianza[j] / (count_y[j] / len(spotify))\n",
    "    \n",
    "    for j in range(len(rules)):\n",
    "        if (confianza[j] >= confidence and sustento[j] >= lift):\n",
    "            print(j+1)\n",
    "            print(\"Regla: \" , list(rules[j][0]) , \" -> \" , list(rules[j][1]))\n",
    "            print(\"Soporte: \" , str(soporte[j]*100))\n",
    "            print(\"Confianza: \" , str(confianza[j]*100))\n",
    "            print(\"Sustento: \" , str(sustento[j]))\n",
    "            print(\"=====================================\")\n"
   ]
  },
  {
   "cell_type": "markdown",
   "metadata": {},
   "source": [
    "# MAIN"
   ]
  },
  {
   "cell_type": "code",
   "execution_count": 16,
   "metadata": {},
   "outputs": [
    {
     "name": "stdout",
     "output_type": "stream",
     "text": [
      "{'HUMBLE.': 2, 'XO TOUR Llif3': 1}\n",
      "{}\n",
      "[('XO TOUR Llif3', 'HUMBLE.'), ('HUMBLE.', 'Mask Off'), ('HUMBLE.', 'Congratulations')]\n"
     ]
    }
   ],
   "source": [
    "itemsets = get_frequent_itemsets(spotify, 0.020)"
   ]
  },
  {
   "cell_type": "code",
   "execution_count": 38,
   "metadata": {},
   "outputs": [
    {
     "name": "stdout",
     "output_type": "stream",
     "text": [
      "1\n",
      "Regla:  ['HUMBLE.']  ->  ['XO TOUR Llif3']\n",
      "Soporte:  2.04\n",
      "Confianza:  43.87096774193549\n",
      "Sustento:  13.582342954159591\n",
      "=====================================\n",
      "2\n",
      "Regla:  ['XO TOUR Llif3']  ->  ['HUMBLE.']\n",
      "Soporte:  2.04\n",
      "Confianza:  63.1578947368421\n",
      "Sustento:  13.582342954159591\n",
      "=====================================\n",
      "3\n",
      "Regla:  ['Mask Off']  ->  ['HUMBLE.']\n",
      "Soporte:  2.04\n",
      "Confianza:  64.55696202531645\n",
      "Sustento:  13.883217639853001\n",
      "=====================================\n",
      "4\n",
      "Regla:  ['HUMBLE.']  ->  ['Mask Off']\n",
      "Soporte:  2.04\n",
      "Confianza:  43.87096774193549\n",
      "Sustento:  13.883217639853001\n",
      "=====================================\n",
      "5\n",
      "Regla:  ['Congratulations']  ->  ['HUMBLE.']\n",
      "Soporte:  2.1399999999999997\n",
      "Confianza:  53.101736972704714\n",
      "Sustento:  11.41972838122682\n",
      "=====================================\n",
      "6\n",
      "Regla:  ['HUMBLE.']  ->  ['Congratulations']\n",
      "Soporte:  2.1399999999999997\n",
      "Confianza:  46.02150537634409\n",
      "Sustento:  11.41972838122682\n",
      "=====================================\n"
     ]
    }
   ],
   "source": [
    "generate_association_rules(itemsets, confidence = 0, lift = 0)"
   ]
  }
 ],
 "metadata": {
  "interpreter": {
   "hash": "25bf1dab56f13e21d80318cd5e789e076f92a14fa9924f370a2a818164c863f4"
  },
  "kernelspec": {
   "display_name": "Python 3.9.7 64-bit",
   "language": "python",
   "name": "python3"
  },
  "language_info": {
   "codemirror_mode": {
    "name": "ipython",
    "version": 3
   },
   "file_extension": ".py",
   "mimetype": "text/x-python",
   "name": "python",
   "nbconvert_exporter": "python",
   "pygments_lexer": "ipython3",
   "version": "3.9.7"
  },
  "orig_nbformat": 4
 },
 "nbformat": 4,
 "nbformat_minor": 2
}
