{
 "cells": [
  {
   "cell_type": "code",
   "execution_count": 40,
   "metadata": {},
   "outputs": [],
   "source": [
    "import numpy as np  \n",
    "from itertools import combinations\n",
    "import pandas as pd"
   ]
  },
  {
   "cell_type": "markdown",
   "metadata": {},
   "source": [
    "# CARGA DE DATOS"
   ]
  },
  {
   "cell_type": "code",
   "execution_count": 41,
   "metadata": {},
   "outputs": [],
   "source": [
    "spotify = np.load(\"spotify.npy\",allow_pickle=True)\n",
    "spotify = spotify.tolist()"
   ]
  },
  {
   "cell_type": "markdown",
   "metadata": {},
   "source": [
    "# FUNCIONES ADICIONALES"
   ]
  },
  {
   "cell_type": "code",
   "execution_count": 48,
   "metadata": {},
   "outputs": [],
   "source": [
    "### HALLA LA FRECUENCIA (APARICIONES) DE CADA CANCION EN LAS PLAYLISTS ##\n",
    "def frecuency_each_song( spotify ):\n",
    "    \n",
    "    frecuencias = {}\n",
    "    # RECORREMOS LAS PLAYLIST Y GUARGAMOS LA FRECUENCIA EN UN DICCIONARIO\n",
    "    for i in range( len(spotify) ):\n",
    "        for j in range(len(spotify[i])):\n",
    "            song = spotify[i][j]\n",
    "            if song in frecuencias: frecuencias[song] += 1\n",
    "            else: frecuencias[song] = 1\n",
    "    return frecuencias\n",
    "\n",
    "### HALLA LA FRECUENCIA (APARICIONES) DE UN ARREGLO DE CANCIONES EN LAS PLAYLISTS ##\n",
    "def frecuency_each_combination( spotify, combination, n ):\n",
    "    # RECORRER ARREGLO DE PLAYLISTS\n",
    "    for i in range( len(spotify) ):\n",
    "        # RECORRER DICCIONARIO QUE CONTENGA LAS COMBINACIONES\n",
    "        for key, value in combination.items():\n",
    "            playlist = []\n",
    "            for j in range(n): playlist.append(key[j])\n",
    "            # VERIFICAR SI COMBINACION SE ENCUENTRA EN PLAYLIST\n",
    "            if( set(playlist).issubset(set( spotify[i] ))):  \n",
    "                combination[key] += 1\n",
    "    return combination\n",
    "\n",
    "### REALIZA LAS COMBINACIONES DE \"N\" CANCIONES Y LOS GUARDA EN UN DICCIONARIO ##\n",
    "def create_combinations( array, n ):\n",
    "    temp = list(combinations( array, n ))\n",
    "    dic_combinations = {}\n",
    "    for i in range(len(temp)): dic_combinations[ temp[i] ] = 0\n",
    "    return dic_combinations\n",
    "\n",
    "### REALIZA LA EVALUACION DE AQUELLAS CANCIONES O COMBINACIONES DE PLAYLIST QUE PASAN EL MIN_SUPPORT\n",
    "def pass_min_support( dic, min_support ):\n",
    "    min_frecuency = []\n",
    "    for key, value in dic.items():\n",
    "        if (value / 10000) >= min_support:min_frecuency.append( key )            \n",
    "    return min_frecuency\n",
    "\n",
    "### REALIZA LAS COMBINACIONES DE CANCIONES PARA UN SIGUIENTE NIVEL\n",
    "def combinations_to_next_level( combinaciones_pass_support, nivel ):\n",
    "\n",
    "    # RECUPERAMOS LOS N-1 ELEMENTOS DE CADA COMBINACION\n",
    "    aux_primeros=[]\n",
    "    for i in combinaciones_pass_support: aux_primeros.append( i[0] )\n",
    "\n",
    "    # REALIZAMOS UN CONTEO PARA TRABAJAR CON AQUELLAS COMBINACIONES QUE TENGAN MAS DE UNA APARICION\n",
    "    aUnique = np.array(aux_primeros)\n",
    "    unique, counts = np.unique(aUnique, return_counts=True)\n",
    "    auxi = dict(zip(unique, counts))\n",
    "\n",
    "    aux_primeros_fijos = []\n",
    "    combinatorias = {}\n",
    "    for key, value in auxi.items(): # CONTEO DE APARICIONES DE LOS N-1 ELEMENTOS\n",
    "        adicionales = []\n",
    "        # SI TIENE MAS DE UNA APARICION SE TRABAJO CON SUS CONSECUENTES\n",
    "        if value > 1:\n",
    "            aux_primeros_fijos.append( key )\n",
    "            for auxiliar in combinaciones_pass_support: # BUSQUEDA DE ADICIONALES EN DICCIONARIO \n",
    "                if key == auxiliar[0]:\n",
    "                    adicionales.append(auxiliar[1])\n",
    "            # SE REALIZA LAS COMBINACIONES CON LOS CONSECUENTES DE LAS CANCIONES\n",
    "            adicionales = [key] + adicionales\n",
    "            combinaciones = list(combinations(adicionales, nivel + 1))\n",
    "            # AGREGAMOS LAS COMBINACIONES A UN DICCIONARIO\n",
    "            for i in combinaciones:  \n",
    "                if i[0] in aux_primeros_fijos:\n",
    "                    combinatorias[ i ] = 0\n",
    "\n",
    "    return combinatorias\n",
    "\n",
    "### GENERA LAS REGLAS A PARTIR DE ITEMSETS FRECUENTES\n",
    "def combinations_rules(items):\n",
    "    dic = []\n",
    "    # RECORREMOS LOS ITEMSETS FRECUENTES\n",
    "    for i in range(len(items)):\n",
    "        # REALIZAMOS LAS COMBINACIONES, DIVIDIENDO EL ITEM EN DOS SECCIONES\n",
    "        tamanio = len(items[i])\n",
    "        adicionales = list( items[i] )\n",
    "        combinaciones = list(combinations(adicionales, tamanio - 1))\n",
    "\n",
    "        for combinacion in combinaciones:\n",
    "            inicio = set(items[i]) - set(combinacion)\n",
    "            fin = combinacion\n",
    "            # AGREGAMOS A UN ARREGLO, SIN REPETICIONES\n",
    "            if [tuple(inicio), tuple(fin) ] not in dic:\n",
    "                dic.append([tuple(inicio), tuple(fin) ])\n",
    "\n",
    "            if [tuple(fin), tuple(inicio) ] not in dic:\n",
    "                dic.append([tuple(fin), tuple(inicio) ])\n",
    "    return dic"
   ]
  },
  {
   "cell_type": "markdown",
   "metadata": {},
   "source": [
    "# FUNCION GET_FREQUENT_ITEMSETS"
   ]
  },
  {
   "cell_type": "code",
   "execution_count": 49,
   "metadata": {},
   "outputs": [],
   "source": [
    "def get_frequent_itemsets(playlists, min_support):\n",
    "\n",
    "    # FRECUENCIA DE APARICION DE CADA CANCION\n",
    "    frecuency_of_songs = frecuency_each_song(playlists)\n",
    "\n",
    "    # FILTRAR AQUELLAS CANCIONES QUE PASEN EL SOPORTE MINIMO\n",
    "    songs_pass_support = pass_min_support( frecuency_of_songs, min_support )\n",
    "    \n",
    "    itemsets = []      # ARREGLO QUE GUARDA LOS ITEMSETS\n",
    "    bandera = True     # BANDERA QUE NOS INDICARA SI SE SEGUIRA AVANZANDO EN NIVELES\n",
    "    nivel = 1          # VARIABLE QUE INDICA EL NIVEL ACTUAL\n",
    "    combinaciones = {} # DICCIONARIO QUE GUARDA LAS COMBINACIONES\n",
    "\n",
    "    while ( bandera ):\n",
    "        nivel += 1\n",
    "\n",
    "        # HALLA LAS COMBINACIONES PARA EL RESPECTIVO NIVEL\n",
    "        if nivel == 2: combinaciones = create_combinations( songs_pass_support, nivel )\n",
    "\n",
    "        # HALLA LA FRECUENCIA CON LA QUE APARECE CADA COMBINACION EN CADA PLAYLIST\n",
    "        frecuencia_combinaciones = frecuency_each_combination( spotify, combinaciones, nivel )\n",
    "\n",
    "        # FILTRAR AQUELLAS COMBINACIONES QUE PASEN EL SOPORTE MINIMO\n",
    "        combinaciones_pass_support = pass_min_support( frecuencia_combinaciones, min_support )\n",
    "\n",
    "        # AGREGAR COMBINACIONES A 'ITEMSETS'\n",
    "        for combinacion in combinaciones_pass_support: itemsets.append( combinacion )\n",
    "\n",
    "        # ENCONTRAR LAS NUEVAS COMBINACIONES PARA EL SIGUIENTE NIVEL\n",
    "        combinaciones = combinations_to_next_level( combinaciones_pass_support, nivel )\n",
    "\n",
    "        # SI EL TAMAÑO DE COMBINACIONES QUE PASEN EL SOPORTE MINIMO ES '1', CORTAMOS EL ALGORITMO\n",
    "        if (len( combinaciones_pass_support ) <= 1) : bandera = False\n",
    "\n",
    "    return itemsets"
   ]
  },
  {
   "cell_type": "markdown",
   "metadata": {},
   "source": [
    "# FUNCION GENERATE_ASSOCIATION_RULES"
   ]
  },
  {
   "cell_type": "code",
   "execution_count": 63,
   "metadata": {},
   "outputs": [],
   "source": [
    "def generate_association_rules(frequent_itemsets, confidence, lift):\n",
    "\n",
    "    # ENCONTRAMOS LAS REGLAS DE ASOCIACION, PARA LOS ITEMSETS QUE PASEN EL UMBRAL\n",
    "    rules = combinations_rules(frequent_itemsets)\n",
    "\n",
    "    count_x_y = [0] * len(rules) # CONTEO DE TRANSACCIONES (X U Y)\n",
    "    count_x   = [0] * len(rules) # CONTEO DE TRANSACCIONES (X)\n",
    "    count_y   = [0] * len(rules) # CONTEO DE TRANSACCIONES (Y)\n",
    "\n",
    "    soporte   = [0] * len(rules) # CONTEO DE SOPORTE DE LOS ITEMS\n",
    "    confianza = [0] * len(rules) # CONTEO DE CONFIANZA DE LOS ITEMS\n",
    "    sustento  = [0] * len(rules) # CONTEO DE LIFT DE LOS ITEMS\n",
    "\n",
    "    for i in range( len(spotify) ):   #len(arr)\n",
    "    # RECORRER DICCIONARIO DE PLAYLISTS PARA CONTAR LAS TRANSACCIONES\n",
    "        for j in range(len(rules)):\n",
    "            \n",
    "            x_y = list( rules[j][0] + rules[j][1] )\n",
    "            x = list( rules[j][0] )\n",
    "            y = list( rules[j][1] )\n",
    "\n",
    "            # VERIFICAR SI COMBINACION SE ENCUENTRA EN PLAYLIST\n",
    "            if( set(x_y).issubset(set( spotify[i] ))):  \n",
    "                count_x_y[j] += 1\n",
    "            if( set(x).issubset(set( spotify[i] ))):  \n",
    "                count_x[j] += 1\n",
    "            if( set(y).issubset(set( spotify[i] ))):  \n",
    "                count_y[j] += 1\n",
    "    # RECORRER DICCIONARIO DE RULES PARA CONTAR ATRIBUTOS\n",
    "    for j in range(len(rules)):\n",
    "        soporte[j] = (count_x_y[j] / len(spotify))\n",
    "        confianza[j] = (count_x_y[j] / count_x[j])\n",
    "        sustento[j] = confianza[j] / (count_y[j] / len(spotify))\n",
    "    # IMPRIMIR LOS DATOS NECESARIOS EN CASO PASEN EL UMBRAL DE CONFIDENCE Y LIFT\n",
    "    cont = 0\n",
    "    for j in range(len(rules)):\n",
    "        if (confianza[j] >= confidence) and (sustento[j] >= lift):\n",
    "            print(cont+1)\n",
    "            print(\"Regla: \" , list(rules[j][0]) , \" -> \" , list(rules[j][1]))\n",
    "            print(\"Soporte: \" , str(soporte[j]*100))\n",
    "            print(\"Confianza: \" , str(confianza[j]*100))\n",
    "            print(\"Sustento: \" , str(sustento[j]))\n",
    "            print(\"=====================================\")\n",
    "            cont += 1\n",
    "    print(cont)\n"
   ]
  },
  {
   "cell_type": "markdown",
   "metadata": {},
   "source": [
    "# MAIN"
   ]
  },
  {
   "cell_type": "code",
   "execution_count": 51,
   "metadata": {},
   "outputs": [
    {
     "name": "stdout",
     "output_type": "stream",
     "text": [
      "[('Closer', 'Let Me Love You'), ('goosebumps', 'XO TOUR Llif3'), ('goosebumps', 'HUMBLE.'), ('goosebumps', 'Congratulations'), ('XO TOUR Llif3', 'HUMBLE.'), ('XO TOUR Llif3', 'Mask Off'), ('XO TOUR Llif3', 'Congratulations'), ('iSpy (feat. Lil Yachty)', 'HUMBLE.'), ('iSpy (feat. Lil Yachty)', 'Bad and Boujee (feat. Lil Uzi Vert)'), ('iSpy (feat. Lil Yachty)', 'Congratulations'), ('DNA.', 'HUMBLE.'), ('HUMBLE.', 'Mask Off'), ('HUMBLE.', 'Bad and Boujee (feat. Lil Uzi Vert)'), ('HUMBLE.', 'Bounce Back'), ('HUMBLE.', 'Congratulations'), ('Mask Off', 'Bad and Boujee (feat. Lil Uzi Vert)'), ('Mask Off', 'Congratulations'), ('Broccoli (feat. Lil Yachty)', 'Bad and Boujee (feat. Lil Uzi Vert)'), ('Broccoli (feat. Lil Yachty)', 'Caroline'), ('Broccoli (feat. Lil Yachty)', 'No Problem (feat. Lil Wayne & 2 Chainz)'), ('Bad and Boujee (feat. Lil Uzi Vert)', 'Bounce Back'), ('Bad and Boujee (feat. Lil Uzi Vert)', 'Caroline')]\n"
     ]
    }
   ],
   "source": [
    "# OBTENEMOS LOS ITEMSETS MAS FRECUENTES\n",
    "\n",
    "itemsets = get_frequent_itemsets(spotify, 0.015)\n",
    "\n",
    "print( itemsets )"
   ]
  },
  {
   "cell_type": "code",
   "execution_count": 65,
   "metadata": {},
   "outputs": [
    {
     "name": "stdout",
     "output_type": "stream",
     "text": [
      "1\n",
      "Regla:  ['goosebumps']  ->  ['Congratulations']\n",
      "Soporte:  1.55\n",
      "Confianza:  50.324675324675326\n",
      "Sustento:  12.487512487512488\n",
      "=====================================\n",
      "2\n",
      "Regla:  ['XO TOUR Llif3']  ->  ['HUMBLE.']\n",
      "Soporte:  2.04\n",
      "Confianza:  63.1578947368421\n",
      "Sustento:  13.582342954159591\n",
      "=====================================\n",
      "3\n",
      "Regla:  ['Mask Off']  ->  ['XO TOUR Llif3']\n",
      "Soporte:  1.63\n",
      "Confianza:  51.58227848101266\n",
      "Sustento:  15.969745659756239\n",
      "=====================================\n",
      "4\n",
      "Regla:  ['XO TOUR Llif3']  ->  ['Mask Off']\n",
      "Soporte:  1.63\n",
      "Confianza:  50.464396284829725\n",
      "Sustento:  15.96974565975624\n",
      "=====================================\n",
      "5\n",
      "Regla:  ['XO TOUR Llif3']  ->  ['Congratulations']\n",
      "Soporte:  1.79\n",
      "Confianza:  55.417956656346746\n",
      "Sustento:  13.751354009019042\n",
      "=====================================\n",
      "6\n",
      "Regla:  ['DNA.']  ->  ['HUMBLE.']\n",
      "Soporte:  1.9\n",
      "Confianza:  82.25108225108225\n",
      "Sustento:  17.688404785178978\n",
      "=====================================\n",
      "7\n",
      "Regla:  ['Mask Off']  ->  ['HUMBLE.']\n",
      "Soporte:  2.04\n",
      "Confianza:  64.55696202531645\n",
      "Sustento:  13.883217639853001\n",
      "=====================================\n",
      "8\n",
      "Regla:  ['Mask Off']  ->  ['Congratulations']\n",
      "Soporte:  1.6199999999999999\n",
      "Confianza:  51.26582278481012\n",
      "Sustento:  12.721047837421866\n",
      "=====================================\n",
      "9\n",
      "Regla:  ['Bounce Back']  ->  ['Bad and Boujee (feat. Lil Uzi Vert)']\n",
      "Soporte:  1.69\n",
      "Confianza:  56.9023569023569\n",
      "Sustento:  16.493436783291852\n",
      "=====================================\n",
      "9\n"
     ]
    }
   ],
   "source": [
    "# GENERAMOS LAS REGLAS DE ASOCIACION\n",
    "\n",
    "generate_association_rules(itemsets, confidence = 0.50, lift = 12)"
   ]
  },
  {
   "cell_type": "markdown",
   "metadata": {},
   "source": [
    "# EXPLICANDO REGLAS OBTENIDAS"
   ]
  },
  {
   "cell_type": "markdown",
   "metadata": {},
   "source": [
    "### Se selecciono las siguientes reglas, ya que tienen el mejor Lift\n",
    "\n",
    "REGLA N°1\n",
    "* Regla    :  'Mask Off'  ->  'HUMBLE.'\n",
    "* Soporte  :  2.04\n",
    "* Confianza:  64.55696202531645\n",
    "* Sustento :  13.883217639853001\n",
    "\n",
    "----------------------------------------------------------------------------\n",
    "REGLA N°2\n",
    "* Regla    :  'XO TOUR Llif3'  ->  'Mask Off'\n",
    "* Soporte  :  1.63\n",
    "* Confianza:  50.464396284829725\n",
    "* Sustento :  15.96974565975624\n",
    "\n",
    "----------------------------------------------------------------------------\n",
    "\n",
    "REGLA N°3\n",
    "* Regla    :  'DNA.'  ->  'HUMBLE.'\n",
    "* Soporte  :  1.9\n",
    "* Confianza:  82.25108225108225\n",
    "* Sustento :  17.688404785178978\n",
    "\n",
    "----------------------------------------------------------------------------\n",
    "\n",
    "REGLA N°4\n",
    "* Regla    :  Bounce Back  ->  Bad and Boujee (feat. Lil Uzi Vert)\n",
    "* Soporte  :  1.69\n",
    "* Confianza:  56.9023569023569\n",
    "* Sustento :  16.493436783291852\n",
    "\n",
    "----------------------------------------------------------------------------\n"
   ]
  },
  {
   "cell_type": "markdown",
   "metadata": {},
   "source": [
    "| CANCIÓN | ARTISTA | GÉNERO |\n",
    "| --- | --- | --- |\n",
    "| Mask Off | Future | Hip-hop/rap |\n",
    "| HUMBLE | Kendrick Lamar | Hip-hop/rap |\n",
    "| XO TOUR Llif3 | Lil Uzi Vert | Hip-hop/rap |\n",
    "| DNA | Kendrick Lamar | Hip-hop/trap |\n",
    "| Bounce Back | Big Sean | Hip-hop/rap |\n",
    "| Bad and Boujee (feat. Lil Uzi Vert) | Migos | Hip-hop/trap |"
   ]
  },
  {
   "cell_type": "markdown",
   "metadata": {},
   "source": [
    "### De estas canciones se concluye lo siguiente\n",
    "\n",
    "- HUMBLE y DNA pertenecen al artista Kendrick Lamar, eso podría explicar porque tienen el lift y confianza mas alto.\n",
    "- Todas las canciones pertenecen al genero Hip-hop, con pequeñas variaciones de trap y rap.\n",
    "- Los artistas de MASK OFF y HUMBLE tienen canciones juntos, eso podría explicar su alto nivel de confianza."
   ]
  }
 ],
 "metadata": {
  "interpreter": {
   "hash": "25bf1dab56f13e21d80318cd5e789e076f92a14fa9924f370a2a818164c863f4"
  },
  "kernelspec": {
   "display_name": "Python 3.9.7 64-bit",
   "language": "python",
   "name": "python3"
  },
  "language_info": {
   "codemirror_mode": {
    "name": "ipython",
    "version": 3
   },
   "file_extension": ".py",
   "mimetype": "text/x-python",
   "name": "python",
   "nbconvert_exporter": "python",
   "pygments_lexer": "ipython3",
   "version": "3.9.7"
  },
  "orig_nbformat": 4
 },
 "nbformat": 4,
 "nbformat_minor": 2
}
