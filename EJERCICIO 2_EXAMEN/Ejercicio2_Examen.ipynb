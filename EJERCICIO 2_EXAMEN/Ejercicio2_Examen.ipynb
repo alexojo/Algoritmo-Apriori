{
 "cells": [
  {
   "cell_type": "markdown",
   "id": "19f6aec9",
   "metadata": {},
   "source": [
    "## Ejercicio 2 del Primer Examen Parcial"
   ]
  },
  {
   "cell_type": "code",
   "execution_count": 8,
   "id": "048dded2",
   "metadata": {},
   "outputs": [],
   "source": [
    "-- Metodo para hallar el mcm de 'n' numeros\n",
    "mcm [n] = n\n",
    "mcm [n,m] = lcm n m\n",
    "mcm (n:nAux) = lcm n (mcm nAux)"
   ]
  },
  {
   "cell_type": "code",
   "execution_count": 9,
   "id": "8c89e814",
   "metadata": {},
   "outputs": [],
   "source": [
    "mediaDivN d n = media\n",
    "    where\n",
    "        -- Hallamos el mcm de '1' hasta 'd'\n",
    "        mcmAux = mcm [1..d]\n",
    "        -- Hallamos la media con 'mcm' y el numero de n+1 entre 2\n",
    "        media = fromIntegral mcmAux * fromIntegral (n+1) / 2"
   ]
  },
  {
   "cell_type": "code",
   "execution_count": 10,
   "id": "351749f5",
   "metadata": {},
   "outputs": [
    {
     "data": {
      "text/plain": [
       "5.0"
      ]
     },
     "metadata": {},
     "output_type": "display_data"
    }
   ],
   "source": [
    "mediaDivN 2 4"
   ]
  }
 ],
 "metadata": {
  "kernelspec": {
   "display_name": "Haskell",
   "language": "haskell",
   "name": "haskell"
  },
  "language_info": {
   "codemirror_mode": "ihaskell",
   "file_extension": ".hs",
   "mimetype": "text/x-haskell",
   "name": "haskell",
   "pygments_lexer": "Haskell",
   "version": "8.10.7"
  }
 },
 "nbformat": 4,
 "nbformat_minor": 5
}
